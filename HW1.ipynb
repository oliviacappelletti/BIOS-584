{
 "cells": [
  {
   "metadata": {},
   "cell_type": "markdown",
   "source": "",
   "id": "1c4150e089e6ede1"
  },
  {
   "cell_type": "markdown",
   "id": "be3320e1-a702-4785-8f03-af3f095b6ece",
   "metadata": {},
   "source": [
    "\"This is my first Jupyter Notebook\" "
   ]
  },
  {
   "cell_type": "code",
   "execution_count": 2,
   "id": "62d6319d-d624-451e-8ece-a722d8fe3d32",
   "metadata": {},
   "outputs": [
    {
     "name": "stdout",
     "output_type": "stream",
     "text": [
      "My name is Olivia Cappelletti\n"
     ]
    }
   ],
   "source": [
    "print(\"My name is Olivia Cappelletti\")"
   ]
  },
  {
   "cell_type": "code",
   "execution_count": null,
   "id": "93ec8168-d2d9-4c98-8a15-2b0f01d00147",
   "metadata": {},
   "outputs": [],
   "source": []
  }
 ],
 "metadata": {
  "kernelspec": {
   "display_name": "Python 3 (ipykernel)",
   "language": "python",
   "name": "python3"
  },
  "language_info": {
   "codemirror_mode": {
    "name": "ipython",
    "version": 3
   },
   "file_extension": ".py",
   "mimetype": "text/x-python",
   "name": "python",
   "nbconvert_exporter": "python",
   "pygments_lexer": "ipython3",
   "version": "3.13.7"
  }
 },
 "nbformat": 4,
 "nbformat_minor": 5
}
